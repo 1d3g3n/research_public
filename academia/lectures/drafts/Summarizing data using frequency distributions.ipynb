{
 "cells": [
  {
   "cell_type": "markdown",
   "metadata": {},
   "source": [
    "# Frequency distributions\n",
    "\n",
    "We often summarize when working with data. Although there is more information contained in the complete list of observations, a summary that makes the data more comprehensible may be more useful. For instance, we often cite the mean of a set of data instead of listing out all of the values. This is particulary useful when we have a very large number of data points.\n",
    "\n",
    "A frequency distribution consists of a set of intervals and the number of observations that fall into each. Talking about data in intervals often makes more sense than using specific values. For instance, if all 50 observations of a random variable have landed in the interval [99, 101], we expect the next observation to be approximately 100. We do not expect it to come up with any particular value, however, and would be more likely to bet that the next observation will be in the interval [99, 101] than that it will be exactly equal to 100.72.\n",
    "\n",
    "When constructing a frequency distribution, we use some number $k$ of equally sized bins. Each of the $k$ intervals has length (range of data)/$k$.\n",
    "\n",
    "The usefulness of frequency distributions can be seen below. Binning the data shows that the observations are sampled from a normal distribution much better than the one that marks each data point individually."
   ]
  },
  {
   "cell_type": "code",
   "execution_count": 93,
   "metadata": {
    "collapsed": false
   },
   "outputs": [
    {
     "name": "stdout",
     "output_type": "stream",
     "text": [
      "Data frequencies:  [1 0 0 0 0 0 0 0 0 0 0 0 0 0 0 0 0 0 0 0 0 0 0 0 1 0 0 0 0 0 0 0 0 0 0 0 0\n",
      " 0 0 0 0 0 0 0 0 0 0 0 0 0 0 0 0 0 0 0 0 0 0 0 0 0 0 0 0 0 0 0 1 0 0 0 0 0\n",
      " 0 0 0 0 0 0 0 0 0 0 1 0 1 0 0 0 0 0 1 0 0 0 0 0 1 0 1 0 0 1 0 2 1 0 0 1 0\n",
      " 2 1 0 0 0 1 0 1 0 1 0 2 1 0 0 1 0 1 1 1 1 1 0 2 3 1 1 0 2 1 1 0 0 0 1 0 1\n",
      " 0 1 1 0 0 0 0 0 1 0 1 3 0 3 1 1 1 2 0 0 1 0 0 2 1 1 0 0 2 4 3 1 1 1 1 0 2\n",
      " 3 1 1 1 1 1 0 1 1 1 0 1 1 0 0 1 1 0 2 0 2 2 0 2 1 1 0 0 0 1 0 0 0 1 1 1 2\n",
      " 1 2 2 3 1 0 2 0 1 1 0 0 0 0 1 2 0 2 1 0 3 0 0 0 1 0 0 1 0 0 1 0 2 1 0 0 2\n",
      " 0 0 0 1 0 0 0 1 2 0 0 1 1 1 1 0 0 0 0 0 0 0 1 1 1 0 0 0 0 0 0 0 0 0 1 0 0\n",
      " 0 0 0 1]\n"
     ]
    }
   ],
   "source": [
    "import numpy as np\n",
    "\n",
    "X = np.random.randn(150)\n",
    "\n",
    "# Print list of frequencies of data points\n",
    "# Second argument is number of bins\n",
    "hist, _ = np.histogram(X, 300)\n",
    "print 'Data frequencies: ', hist"
   ]
  },
  {
   "cell_type": "code",
   "execution_count": 94,
   "metadata": {
    "collapsed": false
   },
   "outputs": [
    {
     "name": "stdout",
     "output_type": "stream",
     "text": [
      "Binned data frequencies:  [ 1  1  0  1  4 11 19 11 23 18 15 21 12  8  5]\n"
     ]
    }
   ],
   "source": [
    "# Print frequency of data per bin\n",
    "hist, _ = np.histogram(X, 15)\n",
    "print 'Binned data frequencies: ', hist"
   ]
  },
  {
   "cell_type": "markdown",
   "metadata": {},
   "source": [
    "However, if bin sizes are too large, the data ceases to be very informative:"
   ]
  },
  {
   "cell_type": "code",
   "execution_count": 95,
   "metadata": {
    "collapsed": false
   },
   "outputs": [
    {
     "name": "stdout",
     "output_type": "stream",
     "text": [
      "Binned data frequencies:  [ 3 39 70 38]\n"
     ]
    }
   ],
   "source": [
    "# Print frequency of data per bin\n",
    "hist, _ = np.histogram(X, 4)\n",
    "print 'Binned data frequencies: ', hist"
   ]
  },
  {
   "cell_type": "markdown",
   "metadata": {},
   "source": [
    "Frequency distributions are often used in graphing because binned data is visually more comprehensible. For example, the commonly-used graphing library `matplotlib.pyplot` has a built-in histogram function which requires the number of bins $k$."
   ]
  }
 ],
 "metadata": {
  "kernelspec": {
   "display_name": "Python 2",
   "language": "python",
   "name": "python2"
  },
  "language_info": {
   "codemirror_mode": {
    "name": "ipython",
    "version": 2
   },
   "file_extension": ".py",
   "mimetype": "text/x-python",
   "name": "python",
   "nbconvert_exporter": "python",
   "pygments_lexer": "ipython2",
   "version": "2.7.6"
  }
 },
 "nbformat": 4,
 "nbformat_minor": 0
}
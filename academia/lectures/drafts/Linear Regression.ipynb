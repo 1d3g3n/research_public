{
 "cells": [
  {
   "cell_type": "markdown",
   "metadata": {},
   "source": [
    "# Linear Regression\n",
    "\n",
    "A linear regression is a procedure that allows you to find the linear equation that best represents the relationship between variables. That is, it finds the line (or plane, in higher dimensions) of best fit. For instance, if you want to know how the returns on the S&P 500 (data points $X_1, X_2,\\ldots, X_n$) affect the price of a stock ($Y_1, Y_2,\\ldots, Y_n$), you can find the line of best fit for the set of points with coordinates (S&P 500 returns, stock price). If this line is, say, $y = 5x + 3$, you know that for every dollar that S&P 500 returns go up, the stock price goes up by \\$5.\n",
    "\n",
    "We can quantify \"best fit\" as the parameters $a, b$ that minimize the sum of squared errors,\n",
    "$$\\sum_{i=1}^n (Y_i - a - bX_i)^2$$\n",
    "There other metrics by which to determine the quality of a fit, and so this particular one is referred to as OLS (ordinary least squares) regression.\n",
    "\n",
    "Python's `statsmodels` library has a built-in linear fit function. Note that this will give a line of best fit; whether or not the relationship it shows is significant is for you to determine. The output will also have some statistics about the model, such as R-squared and the F value, which may help you quantify how good the fit actually is. Below we will see an example of two variables $X$ and $Y$ which are completely uncorrelated, and do not have a linear relationship at all."
   ]
  },
  {
   "cell_type": "code",
   "execution_count": 2,
   "metadata": {
    "collapsed": false
   },
   "outputs": [],
   "source": [
    "# Import libraries\n",
    "import numpy as np\n",
    "from statsmodels import regression\n",
    "import statsmodels.api as sm\n",
    "import matplotlib.pyplot as plt\n",
    "import math"
   ]
  },
  {
   "cell_type": "code",
   "execution_count": 15,
   "metadata": {
    "collapsed": false
   },
   "outputs": [
    {
     "name": "stderr",
     "output_type": "stream",
     "text": [
      "[2015-06-12 16:44:09.339634] DEBUG: root: Enter SimpleTable.data2rows.\n",
      "[2015-06-12 16:44:09.340318] DEBUG: root: Exit SimpleTable.data2rows.\n",
      "[2015-06-12 16:44:09.340855] DEBUG: root: Enter SimpleTable.data2rows.\n",
      "[2015-06-12 16:44:09.341412] DEBUG: root: Exit SimpleTable.data2rows.\n",
      "[2015-06-12 16:44:09.342459] DEBUG: root: Enter SimpleTable.data2rows.\n",
      "[2015-06-12 16:44:09.342991] DEBUG: root: Exit SimpleTable.data2rows.\n",
      "[2015-06-12 16:44:09.343591] DEBUG: root: Enter SimpleTable.data2rows.\n",
      "[2015-06-12 16:44:09.344093] DEBUG: root: Exit SimpleTable.data2rows.\n",
      "[2015-06-12 16:44:09.344600] DEBUG: root: Enter SimpleTable.data2rows.\n",
      "[2015-06-12 16:44:09.345097] DEBUG: root: Exit SimpleTable.data2rows.\n"
     ]
    },
    {
     "data": {
      "text/html": [
       "<table class=\"simpletable\">\n",
       "<caption>OLS Regression Results</caption>\n",
       "<tr>\n",
       "  <th>Dep. Variable:</th>            <td>y</td>        <th>  R-squared:         </th> <td>   0.004</td>\n",
       "</tr>\n",
       "<tr>\n",
       "  <th>Model:</th>                   <td>OLS</td>       <th>  Adj. R-squared:    </th> <td>  -0.006</td>\n",
       "</tr>\n",
       "<tr>\n",
       "  <th>Method:</th>             <td>Least Squares</td>  <th>  F-statistic:       </th> <td>  0.3861</td>\n",
       "</tr>\n",
       "<tr>\n",
       "  <th>Date:</th>             <td>Fri, 12 Jun 2015</td> <th>  Prob (F-statistic):</th>  <td> 0.536</td> \n",
       "</tr>\n",
       "<tr>\n",
       "  <th>Time:</th>                 <td>16:44:09</td>     <th>  Log-Likelihood:    </th> <td> -10.794</td>\n",
       "</tr>\n",
       "<tr>\n",
       "  <th>No. Observations:</th>      <td>   100</td>      <th>  AIC:               </th> <td>   25.59</td>\n",
       "</tr>\n",
       "<tr>\n",
       "  <th>Df Residuals:</th>          <td>    98</td>      <th>  BIC:               </th> <td>   30.80</td>\n",
       "</tr>\n",
       "<tr>\n",
       "  <th>Df Model:</th>              <td>     1</td>      <th>                     </th>     <td> </td>   \n",
       "</tr>\n",
       "<tr>\n",
       "  <th>Covariance Type:</th>      <td>nonrobust</td>    <th>                     </th>     <td> </td>   \n",
       "</tr>\n",
       "</table>\n",
       "<table class=\"simpletable\">\n",
       "<tr>\n",
       "    <td></td>       <th>coef</th>     <th>std err</th>      <th>t</th>      <th>P>|t|</th> <th>[95.0% Conf. Int.]</th> \n",
       "</tr>\n",
       "<tr>\n",
       "  <th>const</th> <td>    0.4774</td> <td>    0.051</td> <td>    9.445</td> <td> 0.000</td> <td>    0.377     0.578</td>\n",
       "</tr>\n",
       "<tr>\n",
       "  <th>x1</th>    <td>    0.0559</td> <td>    0.090</td> <td>    0.621</td> <td> 0.536</td> <td>   -0.123     0.234</td>\n",
       "</tr>\n",
       "</table>\n",
       "<table class=\"simpletable\">\n",
       "<tr>\n",
       "  <th>Omnibus:</th>       <td>17.457</td> <th>  Durbin-Watson:     </th> <td>   2.104</td>\n",
       "</tr>\n",
       "<tr>\n",
       "  <th>Prob(Omnibus):</th> <td> 0.000</td> <th>  Jarque-Bera (JB):  </th> <td>   4.796</td>\n",
       "</tr>\n",
       "<tr>\n",
       "  <th>Skew:</th>          <td>-0.112</td> <th>  Prob(JB):          </th> <td>  0.0909</td>\n",
       "</tr>\n",
       "<tr>\n",
       "  <th>Kurtosis:</th>      <td> 1.951</td> <th>  Cond. No.          </th> <td>    4.10</td>\n",
       "</tr>\n",
       "</table>"
      ],
      "text/plain": [
       "<class 'statsmodels.iolib.summary.Summary'>\n",
       "\"\"\"\n",
       "                            OLS Regression Results                            \n",
       "==============================================================================\n",
       "Dep. Variable:                      y   R-squared:                       0.004\n",
       "Model:                            OLS   Adj. R-squared:                 -0.006\n",
       "Method:                 Least Squares   F-statistic:                    0.3861\n",
       "Date:                Fri, 12 Jun 2015   Prob (F-statistic):              0.536\n",
       "Time:                        16:44:09   Log-Likelihood:                -10.794\n",
       "No. Observations:                 100   AIC:                             25.59\n",
       "Df Residuals:                      98   BIC:                             30.80\n",
       "Df Model:                           1                                         \n",
       "Covariance Type:            nonrobust                                         \n",
       "==============================================================================\n",
       "                 coef    std err          t      P>|t|      [95.0% Conf. Int.]\n",
       "------------------------------------------------------------------------------\n",
       "const          0.4774      0.051      9.445      0.000         0.377     0.578\n",
       "x1             0.0559      0.090      0.621      0.536        -0.123     0.234\n",
       "==============================================================================\n",
       "Omnibus:                       17.457   Durbin-Watson:                   2.104\n",
       "Prob(Omnibus):                  0.000   Jarque-Bera (JB):                4.796\n",
       "Skew:                          -0.112   Prob(JB):                       0.0909\n",
       "Kurtosis:                       1.951   Cond. No.                         4.10\n",
       "==============================================================================\n",
       "\n",
       "Warnings:\n",
       "[1] Standard Errors assume that the covariance matrix of the errors is correctly specified.\n",
       "\"\"\""
      ]
     },
     "execution_count": 15,
     "metadata": {},
     "output_type": "execute_result"
    },
    {
     "data": {
      "image/png": "[encoded data removed]",
      "text/plain": [
       "<matplotlib.figure.Figure at 0x7f9e2076cd90>"
      ]
     },
     "metadata": {},
     "output_type": "display_data"
    }
   ],
   "source": [
    "def linreg(X,Y):\n",
    "    # Running the linear regression\n",
    "    X = sm.add_constant(X)\n",
    "    model = regression.linear_model.OLS(Y, X).fit()\n",
    "    a = model.params[0]\n",
    "    b = model.params[1]\n",
    "    X = X[:, 1]\n",
    "\n",
    "    # Return summary of the regression and plot results\n",
    "    X2 = np.linspace(X.min(), X.max(), 100)\n",
    "    Y_hat = X2 * b + a\n",
    "    plt.scatter(X, Y, alpha=0.3) # Plot the raw data\n",
    "    plt.plot(X2, Y_hat, 'r', alpha=0.9);  # Add the regression line, colored in red\n",
    "    return model.summary()\n",
    "\n",
    "xs = np.random.rand(100)\n",
    "linreg(xs,np.random.rand(100))"
   ]
  },
  {
   "cell_type": "markdown",
   "metadata": {},
   "source": [
    "The above is clearly not a good representation of the relationship between the variables. Now we can take a look at two variables which are indeed correlated:"
   ]
  },
  {
   "cell_type": "code",
   "execution_count": 18,
   "metadata": {
    "collapsed": false,
    "scrolled": false
   },
   "outputs": [
    {
     "name": "stderr",
     "output_type": "stream",
     "text": [
      "[2015-06-12 16:47:02.005751] DEBUG: root: Enter SimpleTable.data2rows.\n",
      "[2015-06-12 16:47:02.006523] DEBUG: root: Exit SimpleTable.data2rows.\n",
      "[2015-06-12 16:47:02.007050] DEBUG: root: Enter SimpleTable.data2rows.\n",
      "[2015-06-12 16:47:02.007590] DEBUG: root: Exit SimpleTable.data2rows.\n",
      "[2015-06-12 16:47:02.008604] DEBUG: root: Enter SimpleTable.data2rows.\n",
      "[2015-06-12 16:47:02.009123] DEBUG: root: Exit SimpleTable.data2rows.\n",
      "[2015-06-12 16:47:02.009707] DEBUG: root: Enter SimpleTable.data2rows.\n",
      "[2015-06-12 16:47:02.010199] DEBUG: root: Exit SimpleTable.data2rows.\n",
      "[2015-06-12 16:47:02.010728] DEBUG: root: Enter SimpleTable.data2rows.\n",
      "[2015-06-12 16:47:02.011338] DEBUG: root: Exit SimpleTable.data2rows.\n"
     ]
    },
    {
     "data": {
      "text/html": [
       "<table class=\"simpletable\">\n",
       "<caption>OLS Regression Results</caption>\n",
       "<tr>\n",
       "  <th>Dep. Variable:</th>            <td>y</td>        <th>  R-squared:         </th> <td>   0.770</td>\n",
       "</tr>\n",
       "<tr>\n",
       "  <th>Model:</th>                   <td>OLS</td>       <th>  Adj. R-squared:    </th> <td>   0.768</td>\n",
       "</tr>\n",
       "<tr>\n",
       "  <th>Method:</th>             <td>Least Squares</td>  <th>  F-statistic:       </th> <td>   328.8</td>\n",
       "</tr>\n",
       "<tr>\n",
       "  <th>Date:</th>             <td>Fri, 12 Jun 2015</td> <th>  Prob (F-statistic):</th> <td>4.46e-33</td>\n",
       "</tr>\n",
       "<tr>\n",
       "  <th>Time:</th>                 <td>16:47:02</td>     <th>  Log-Likelihood:    </th> <td>  26.670</td>\n",
       "</tr>\n",
       "<tr>\n",
       "  <th>No. Observations:</th>      <td>   100</td>      <th>  AIC:               </th> <td>  -49.34</td>\n",
       "</tr>\n",
       "<tr>\n",
       "  <th>Df Residuals:</th>          <td>    98</td>      <th>  BIC:               </th> <td>  -44.13</td>\n",
       "</tr>\n",
       "<tr>\n",
       "  <th>Df Model:</th>              <td>     1</td>      <th>                     </th>     <td> </td>   \n",
       "</tr>\n",
       "<tr>\n",
       "  <th>Covariance Type:</th>      <td>nonrobust</td>    <th>                     </th>     <td> </td>   \n",
       "</tr>\n",
       "</table>\n",
       "<table class=\"simpletable\">\n",
       "<tr>\n",
       "    <td></td>       <th>coef</th>     <th>std err</th>      <th>t</th>      <th>P>|t|</th> <th>[95.0% Conf. Int.]</th> \n",
       "</tr>\n",
       "<tr>\n",
       "  <th>const</th> <td>   -0.0476</td> <td>    0.035</td> <td>   -1.370</td> <td> 0.174</td> <td>   -0.117     0.021</td>\n",
       "</tr>\n",
       "<tr>\n",
       "  <th>x1</th>    <td>    1.1209</td> <td>    0.062</td> <td>   18.133</td> <td> 0.000</td> <td>    0.998     1.244</td>\n",
       "</tr>\n",
       "</table>\n",
       "<table class=\"simpletable\">\n",
       "<tr>\n",
       "  <th>Omnibus:</th>       <td> 3.364</td> <th>  Durbin-Watson:     </th> <td>   1.790</td>\n",
       "</tr>\n",
       "<tr>\n",
       "  <th>Prob(Omnibus):</th> <td> 0.186</td> <th>  Jarque-Bera (JB):  </th> <td>   2.921</td>\n",
       "</tr>\n",
       "<tr>\n",
       "  <th>Skew:</th>          <td> 0.321</td> <th>  Prob(JB):          </th> <td>   0.232</td>\n",
       "</tr>\n",
       "<tr>\n",
       "  <th>Kurtosis:</th>      <td> 2.463</td> <th>  Cond. No.          </th> <td>    4.10</td>\n",
       "</tr>\n",
       "</table>"
      ],
      "text/plain": [
       "<class 'statsmodels.iolib.summary.Summary'>\n",
       "\"\"\"\n",
       "                            OLS Regression Results                            \n",
       "==============================================================================\n",
       "Dep. Variable:                      y   R-squared:                       0.770\n",
       "Model:                            OLS   Adj. R-squared:                  0.768\n",
       "Method:                 Least Squares   F-statistic:                     328.8\n",
       "Date:                Fri, 12 Jun 2015   Prob (F-statistic):           4.46e-33\n",
       "Time:                        16:47:02   Log-Likelihood:                 26.670\n",
       "No. Observations:                 100   AIC:                            -49.34\n",
       "Df Residuals:                      98   BIC:                            -44.13\n",
       "Df Model:                           1                                         \n",
       "Covariance Type:            nonrobust                                         \n",
       "==============================================================================\n",
       "                 coef    std err          t      P>|t|      [95.0% Conf. Int.]\n",
       "------------------------------------------------------------------------------\n",
       "const         -0.0476      0.035     -1.370      0.174        -0.117     0.021\n",
       "x1             1.1209      0.062     18.133      0.000         0.998     1.244\n",
       "==============================================================================\n",
       "Omnibus:                        3.364   Durbin-Watson:                   1.790\n",
       "Prob(Omnibus):                  0.186   Jarque-Bera (JB):                2.921\n",
       "Skew:                           0.321   Prob(JB):                        0.232\n",
       "Kurtosis:                       2.463   Cond. No.                         4.10\n",
       "==============================================================================\n",
       "\n",
       "Warnings:\n",
       "[1] Standard Errors assume that the covariance matrix of the errors is correctly specified.\n",
       "\"\"\""
      ]
     },
     "execution_count": 18,
     "metadata": {},
     "output_type": "execute_result"
    },
    {
     "data": {
      "image/png": "[encoded data removed]",
      "text/plain": [
       "<matplotlib.figure.Figure at 0x7f9e1bf37910>"
      ]
     },
     "metadata": {},
     "output_type": "display_data"
    }
   ],
   "source": [
    "# Generate ys correlated with xs by adding normally-destributed errors\n",
    "ys = xs + 0.2*np.random.randn(100)\n",
    "\n",
    "linreg(xs,ys)"
   ]
  },
  {
   "cell_type": "markdown",
   "metadata": {},
   "source": [
    "In a situation like the above, the line of best fit does indeed model the dependent variable Y quite well (with a high $R^2$ value).\n",
    "\n",
    "For our last example, we'll compare the price of Tesla Motors stock to the S&P 500:"
   ]
  },
  {
   "cell_type": "code",
   "execution_count": 14,
   "metadata": {
    "collapsed": false
   },
   "outputs": [
    {
     "name": "stderr",
     "output_type": "stream",
     "text": [
      "[2015-06-12 16:43:48.660985] DEBUG: root: Enter SimpleTable.data2rows.\n",
      "[2015-06-12 16:43:48.661777] DEBUG: root: Exit SimpleTable.data2rows.\n",
      "[2015-06-12 16:43:48.662309] DEBUG: root: Enter SimpleTable.data2rows.\n",
      "[2015-06-12 16:43:48.662885] DEBUG: root: Exit SimpleTable.data2rows.\n",
      "[2015-06-12 16:43:48.663902] DEBUG: root: Enter SimpleTable.data2rows.\n",
      "[2015-06-12 16:43:48.664445] DEBUG: root: Exit SimpleTable.data2rows.\n",
      "[2015-06-12 16:43:48.665047] DEBUG: root: Enter SimpleTable.data2rows.\n",
      "[2015-06-12 16:43:48.665548] DEBUG: root: Exit SimpleTable.data2rows.\n",
      "[2015-06-12 16:43:48.666042] DEBUG: root: Enter SimpleTable.data2rows.\n",
      "[2015-06-12 16:43:48.666571] DEBUG: root: Exit SimpleTable.data2rows.\n"
     ]
    },
    {
     "data": {
      "text/html": [
       "<table class=\"simpletable\">\n",
       "<caption>OLS Regression Results</caption>\n",
       "<tr>\n",
       "  <th>Dep. Variable:</th>            <td>y</td>        <th>  R-squared:         </th> <td>   0.202</td>\n",
       "</tr>\n",
       "<tr>\n",
       "  <th>Model:</th>                   <td>OLS</td>       <th>  Adj. R-squared:    </th> <td>   0.199</td>\n",
       "</tr>\n",
       "<tr>\n",
       "  <th>Method:</th>             <td>Least Squares</td>  <th>  F-statistic:       </th> <td>   63.14</td>\n",
       "</tr>\n",
       "<tr>\n",
       "  <th>Date:</th>             <td>Fri, 12 Jun 2015</td> <th>  Prob (F-statistic):</th> <td>6.66e-14</td>\n",
       "</tr>\n",
       "<tr>\n",
       "  <th>Time:</th>                 <td>16:43:48</td>     <th>  Log-Likelihood:    </th> <td>  548.81</td>\n",
       "</tr>\n",
       "<tr>\n",
       "  <th>No. Observations:</th>      <td>   251</td>      <th>  AIC:               </th> <td>  -1094.</td>\n",
       "</tr>\n",
       "<tr>\n",
       "  <th>Df Residuals:</th>          <td>   249</td>      <th>  BIC:               </th> <td>  -1087.</td>\n",
       "</tr>\n",
       "<tr>\n",
       "  <th>Df Model:</th>              <td>     1</td>      <th>                     </th>     <td> </td>   \n",
       "</tr>\n",
       "<tr>\n",
       "  <th>Covariance Type:</th>      <td>nonrobust</td>    <th>                     </th>     <td> </td>   \n",
       "</tr>\n",
       "</table>\n",
       "<table class=\"simpletable\">\n",
       "<tr>\n",
       "    <td></td>       <th>coef</th>     <th>std err</th>      <th>t</th>      <th>P>|t|</th> <th>[95.0% Conf. Int.]</th> \n",
       "</tr>\n",
       "<tr>\n",
       "  <th>const</th> <td>    0.0011</td> <td>    0.002</td> <td>    0.626</td> <td> 0.532</td> <td>   -0.002     0.004</td>\n",
       "</tr>\n",
       "<tr>\n",
       "  <th>x1</th>    <td>    1.9271</td> <td>    0.243</td> <td>    7.946</td> <td> 0.000</td> <td>    1.449     2.405</td>\n",
       "</tr>\n",
       "</table>\n",
       "<table class=\"simpletable\">\n",
       "<tr>\n",
       "  <th>Omnibus:</th>       <td>63.947</td> <th>  Durbin-Watson:     </th> <td>   2.006</td>\n",
       "</tr>\n",
       "<tr>\n",
       "  <th>Prob(Omnibus):</th> <td> 0.000</td> <th>  Jarque-Bera (JB):  </th> <td> 371.184</td>\n",
       "</tr>\n",
       "<tr>\n",
       "  <th>Skew:</th>          <td> 0.850</td> <th>  Prob(JB):          </th> <td>2.50e-81</td>\n",
       "</tr>\n",
       "<tr>\n",
       "  <th>Kurtosis:</th>      <td> 8.710</td> <th>  Cond. No.          </th> <td>    141.</td>\n",
       "</tr>\n",
       "</table>"
      ],
      "text/plain": [
       "<class 'statsmodels.iolib.summary.Summary'>\n",
       "\"\"\"\n",
       "                            OLS Regression Results                            \n",
       "==============================================================================\n",
       "Dep. Variable:                      y   R-squared:                       0.202\n",
       "Model:                            OLS   Adj. R-squared:                  0.199\n",
       "Method:                 Least Squares   F-statistic:                     63.14\n",
       "Date:                Fri, 12 Jun 2015   Prob (F-statistic):           6.66e-14\n",
       "Time:                        16:43:48   Log-Likelihood:                 548.81\n",
       "No. Observations:                 251   AIC:                            -1094.\n",
       "Df Residuals:                     249   BIC:                            -1087.\n",
       "Df Model:                           1                                         \n",
       "Covariance Type:            nonrobust                                         \n",
       "==============================================================================\n",
       "                 coef    std err          t      P>|t|      [95.0% Conf. Int.]\n",
       "------------------------------------------------------------------------------\n",
       "const          0.0011      0.002      0.626      0.532        -0.002     0.004\n",
       "x1             1.9271      0.243      7.946      0.000         1.449     2.405\n",
       "==============================================================================\n",
       "Omnibus:                       63.947   Durbin-Watson:                   2.006\n",
       "Prob(Omnibus):                  0.000   Jarque-Bera (JB):              371.184\n",
       "Skew:                           0.850   Prob(JB):                     2.50e-81\n",
       "Kurtosis:                       8.710   Cond. No.                         141.\n",
       "==============================================================================\n",
       "\n",
       "Warnings:\n",
       "[1] Standard Errors assume that the covariance matrix of the errors is correctly specified.\n",
       "\"\"\""
      ]
     },
     "execution_count": 14,
     "metadata": {},
     "output_type": "execute_result"
    },
    {
     "data": {
      "image/png": "[encoded data removed]",
      "text/plain": [
       "<matplotlib.figure.Figure at 0x7f9e202e1d10>"
      ]
     },
     "metadata": {},
     "output_type": "display_data"
    }
   ],
   "source": [
    "start = '2014-01-01'\n",
    "end = '2015-01-01'\n",
    "asset = get_pricing('TSLA', fields='price', start_date=start, end_date=end)\n",
    "benchmark = get_pricing('SPY', fields='price', start_date=start, end_date=end)\n",
    "\n",
    "# We have to take the percent changes to get to returns\n",
    "# Get rid of the first (0th) element because it is NAN\n",
    "r_a = asset.pct_change()[1:]\n",
    "r_b = benchmark.pct_change()[1:]\n",
    "\n",
    "linreg(r_b.values, r_a.values)"
   ]
  }
 ],
 "metadata": {
  "kernelspec": {
   "display_name": "Python 2",
   "language": "python",
   "name": "python2"
  },
  "language_info": {
   "codemirror_mode": {
    "name": "ipython",
    "version": 2
   },
   "file_extension": ".py",
   "mimetype": "text/x-python",
   "name": "python",
   "nbconvert_exporter": "python",
   "pygments_lexer": "ipython2",
   "version": "2.7.6"
  }
 },
 "nbformat": 4,
 "nbformat_minor": 0
}
{
 "cells": [
  {
   "cell_type": "markdown",
   "metadata": {
    "collapsed": true
   },
   "source": [
    "# Factor-based Risk Management\n",
    "\n",
    "by Rene Zhang and\n",
    "\n",
    "Part of the Quantopian Lecture Series:\n",
    "* [www.quantopian.com/lectures](https://www.quantopian.com/lectures)\n",
    "* [https://github.com/quantopian/research_public](https://github.com/quantopian/research_public)\n"
   ]
  },
  {
   "cell_type": "markdown",
   "metadata": {},
   "source": [
    "Reference: "
   ]
  },
  {
   "cell_type": "markdown",
   "metadata": {},
   "source": [
    "Risk management is critical for constructing portfolios and building algos. It can help to improve the quality and consistency of returns, because the returns obtained by the unexpected risks, which are hiding within our portfolio, are usually not able to produce profits over a long time.  By limiting or eliminating the amount of these unexpected risks, ideally, the portfolio should only have the exposures to the alpha we pursue. In this lecture, we will focus on how to use factor model in risk management. \n",
    "\n",
    "\n",
    "Recall in the lecture of Factor Risk Exposure, we introduced the factor model that can be expressed as \n",
    "\n",
    "\n",
    "$$R_i = a_i + b_{i1} F_1 + b_{i2} F_2 + \\ldots + b_{iK} F_k + \\epsilon_i,$$\n",
    "\n",
    "where:\n",
    "\n",
    "$k$ $=$ the number of factors\n",
    "\n",
    "$R_i$ $=$ the return for company $i$, \n",
    "\n",
    "$a_i$ $=$ the intercept,\n",
    "\n",
    "$F_j$ $=$ the return for factor $j$, $j \\in [1,k]$, \n",
    "\n",
    "$b_{ij}$ $=$ the corresponding exposure to factor $j$, $j \\in [1,k]$, \n",
    "\n",
    "$\\epsilon_i$ $=$ specific fluctuation of company $i$.\n"
   ]
  },
  {
   "cell_type": "markdown",
   "metadata": {},
   "source": [
    "To quantify the unexpected risk (returns) and have an acceptable risk level, we will need to answer 3 questions:\n",
    "\n",
    "\n",
    "1. What proportion of the variance of my portfolio comes from common risk factors?\n",
    "      \n",
    "2. How to limit the risk?\n",
    "   \n",
    "3. Performance attribution: where does the return/PNL come from?\n",
    "\n"
   ]
  },
  {
   "cell_type": "markdown",
   "metadata": {
    "collapsed": true
   },
   "source": [
    "The factors can be:\n",
    "- fundamental factors, such as sector/industry factor and style factors (size, price-to-book (PB) ratio,\n",
    "  momentum, volatiliy, etc.)\n",
    "- Macroeconomic factor, such as market return and change in inflation \n",
    "- Statistical factors, that is purely based on historical returns and derived from principal component\n",
    "  analysis\n"
   ]
  },
  {
   "cell_type": "markdown",
   "metadata": {},
   "source": [
    "Examples:\n",
    "    - Capital Asset Pricing Model(CAPM): market factor\n",
    "    - Fama-French 3 Factor Model: market factor, size factor, and PB ratio factor\n",
    "    - Barra's U.S. Equity model: industry factor and style factors"
   ]
  },
  {
   "cell_type": "markdown",
   "metadata": {},
   "source": [
    "### Setup:\n"
   ]
  },
  {
   "cell_type": "code",
   "execution_count": 1,
   "metadata": {
    "collapsed": true
   },
   "outputs": [],
   "source": [
    "import numpy as np\n",
    "import statsmodels.api as sm\n",
    "import scipy.stats as stats\n",
    "from statsmodels import regression\n",
    "import matplotlib.pyplot as plt\n",
    "import pandas as pd"
   ]
  },
  {
   "cell_type": "markdown",
   "metadata": {},
   "source": [
    "#### Input parameters: "
   ]
  },
  {
   "cell_type": "code",
   "execution_count": 2,
   "metadata": {
    "collapsed": false
   },
   "outputs": [],
   "source": [
    "# date range for building risk model\n",
    "start = \"2016-01-04\"\n",
    "end = \"2016-06-06\"\n"
   ]
  },
  {
   "cell_type": "markdown",
   "metadata": {},
   "source": [
    "#### Define the universe of assets: \n",
    "The universe of assets we use here includes the [Q500US stocks](https://www.quantopian.com/posts/the-q500us-and-q1500us)."
   ]
  },
  {
   "cell_type": "code",
   "execution_count": 3,
   "metadata": {
    "collapsed": true
   },
   "outputs": [],
   "source": [
    "import numpy as np\n",
    "from quantopian.pipeline import Pipeline\n",
    "from quantopian.pipeline.data import morningstar\n",
    "from quantopian.pipeline.data.builtin import USEquityPricing\n",
    "from quantopian.pipeline.factors import CustomFactor, Returns\n",
    "from quantopian.pipeline.filters.morningstar import Q500US\n",
    "from quantopian.research import run_pipeline"
   ]
  },
  {
   "cell_type": "code",
   "execution_count": 4,
   "metadata": {
    "collapsed": false
   },
   "outputs": [
    {
     "name": "stdout",
     "output_type": "stream",
     "text": [
      "The universe we define includes 536 assets.\n",
      "The number of timestamps is 105 from 2016-01-04 to 2016-06-06.\n"
     ]
    }
   ],
   "source": [
    "# Include US500\n",
    "def qus_returns(start_date, end_date):\n",
    "    pipe = Pipeline(\n",
    "        columns={'Close': USEquityPricing.close.latest},\n",
    "        screen = Q500US()\n",
    "    )\n",
    "    stocks = run_pipeline(pipe, start_date, end_date)  \n",
    "    unstacked_results = stocks.unstack()\n",
    "    \n",
    "    prices = (unstacked_results['Close'].fillna(method='ffill').fillna(method='bfill')\n",
    "                  .dropna(axis=1,how='any').shift(periods=-1).dropna())  \n",
    "    qus_returns = prices.pct_change()[1:]\n",
    "    return qus_returns\n",
    "\n",
    "\n",
    "R = qus_returns(start, end)\n",
    "print \"The universe we define includes {} assets.\".format(R.shape[1])\n",
    "print 'The number of timestamps is {} from {} to {}.'.format(R.shape[0], start, end)"
   ]
  },
  {
   "cell_type": "code",
   "execution_count": 5,
   "metadata": {
    "collapsed": true
   },
   "outputs": [],
   "source": [
    "assets = R.columns"
   ]
  },
  {
   "cell_type": "markdown",
   "metadata": {},
   "source": [
    "#### Obtain the returns of factors and corresponding exposures:\n",
    "Here, we use Fama-French factors as an example. The Fama-French factors are the market, company size, and company price-to-book (PB) ratio. We compute each asset's exposures to these factors.  The code to compute the factors using pipeline is borrowed from \"Quantopian Lecture Series: Fundamental Factor Models\" on [https://www.quantopian.com/lectures](https://www.quantopian.com/lectures)."
   ]
  },
  {
   "cell_type": "code",
   "execution_count": 6,
   "metadata": {
    "collapsed": false
   },
   "outputs": [],
   "source": [
    "class MarketCap(CustomFactor):\n",
    "    # Here's the data we need for this factor\n",
    "    inputs = [morningstar.valuation.shares_outstanding, USEquityPricing.close]\n",
    "    # Only need the most recent values for both series\n",
    "    window_length = 1\n",
    "    \n",
    "    def compute(self, today, assets, out, shares, close_price):\n",
    "        # Shares * price/share = total price = market cap\n",
    "        out[:] = shares * close_price\n",
    "        \n",
    "        \n",
    "class BookToPrice(CustomFactor):\n",
    "    # pb = price to book, we'll need to take the reciprocal later\n",
    "    inputs = [morningstar.valuation_ratios.pb_ratio]\n",
    "    window_length = 1\n",
    "    \n",
    "    def compute(self, today, assets, out, pb):\n",
    "        out[:] = 1 / pb\n",
    "        \n",
    "def make_pipeline():\n",
    "    \"\"\"\n",
    "    Create and return our pipeline.\n",
    "    \n",
    "    We break this piece of logic out into its own function to make it easier to\n",
    "    test and modify in isolation.\n",
    "    \n",
    "    In particular, this function can be copy/pasted into research and run by itself.\n",
    "    \"\"\"\n",
    "    pipe = Pipeline()\n",
    "\n",
    "    # Add our factors to the pipeline\n",
    "    market_cap = MarketCap()\n",
    "    # Raw market cap and book to price data gets fed in here\n",
    "    pipe.add(market_cap, \"market_cap\")\n",
    "    book_to_price = BookToPrice()\n",
    "    pipe.add(book_to_price, \"book_to_price\")\n",
    "    \n",
    "    # We also get daily returns\n",
    "    returns = Returns(inputs=[USEquityPricing.close], window_length=2)\n",
    "    pipe.add(returns, \"returns\")\n",
    "    \n",
    "    # We compute a daily rank of both factors, this is used in the next step,\n",
    "    # which is computing portfolio membership.\n",
    "    market_cap_rank = market_cap.rank()\n",
    "    pipe.add(market_cap_rank, 'market_cap_rank')\n",
    "    \n",
    "    book_to_price_rank = book_to_price.rank()\n",
    "    pipe.add(book_to_price_rank, 'book_to_price_rank')\n",
    "\n",
    "    # Build Filters representing the top and bottom 1000 stocks by our combined ranking system.\n",
    "    biggest = market_cap_rank.top(1000)\n",
    "    smallest = market_cap_rank.bottom(1000)\n",
    "    \n",
    "    highpb = book_to_price_rank.top(1000)\n",
    "    lowpb = book_to_price_rank.bottom(1000)\n",
    "    \n",
    "    # Don't return anything not in this set, as we don't need it.\n",
    "    pipe.set_screen(biggest | smallest | highpb | lowpb)\n",
    "    \n",
    "    # Add the boolean flags we computed to the output data\n",
    "    pipe.add(biggest, 'biggest')\n",
    "    pipe.add(smallest, 'smallest')\n",
    "    \n",
    "    pipe.add(highpb, 'highpb')\n",
    "    pipe.add(lowpb, 'lowpb')\n",
    "    \n",
    "    return pipe\n",
    "\n",
    "pipe = make_pipeline()\n",
    "# This takes a few minutes.\n",
    "results = run_pipeline(pipe, start, end)\n",
    "R_biggest = results[results.biggest]['returns'].groupby(level=0).mean()\n",
    "R_smallest = results[results.smallest]['returns'].groupby(level=0).mean()\n",
    "\n",
    "R_highpb = results[results.highpb]['returns'].groupby(level=0).mean()\n",
    "R_lowpb = results[results.lowpb]['returns'].groupby(level=0).mean()\n",
    "\n",
    "SMB = R_smallest - R_biggest\n",
    "HML = R_highpb - R_lowpb\n",
    "\n",
    "df = pd.DataFrame({\n",
    "         'SMB': SMB, # company size\n",
    "         'HML': HML  # company PB ratio\n",
    "    },columns =[\"SMB\",\"HML\"]).shift(periods =-1).dropna()\n",
    "\n",
    "MKT = get_pricing('SPY', start_date=start, end_date=end, fields='price').pct_change()[1:]\n",
    "MKT = pd.DataFrame({'MKT':MKT})\n",
    "\n",
    "F = pd.concat([MKT,df],axis = 1).dropna()\n",
    "#F = F.subtract(ff_factors.mean(),axis = 1)"
   ]
  },
  {
   "cell_type": "code",
   "execution_count": 7,
   "metadata": {
    "collapsed": false
   },
   "outputs": [
    {
     "data": {
      "image/png": "[encoded data removed]",
      "text/plain": [
       "<matplotlib.figure.Figure at 0x7f0de8ca0990>"
      ]
     },
     "metadata": {},
     "output_type": "display_data"
    }
   ],
   "source": [
    "ax = F.plot(subplots=True, title=\"Fundamental Factors\")\n",
    "ax[0].set(ylabel = \"daily returns\")\n",
    "ax[1].set(ylabel = \"daily returns\")\n",
    "ax[2].set(ylabel = \"daily returns\")\n",
    "plt.show()"
   ]
  },
  {
   "cell_type": "markdown",
   "metadata": {},
   "source": [
    "Running the multi-linear regression on the fundamental factors, we can obtain the corresponding factor exposure for each asset."
   ]
  },
  {
   "cell_type": "code",
   "execution_count": 8,
   "metadata": {
    "collapsed": false
   },
   "outputs": [],
   "source": [
    "# factor exposure\n",
    "B = pd.DataFrame(index=assets, dtype=np.float32)\n",
    "# residual\n",
    "epsilon = pd.DataFrame(index=R.index, dtype=np.float32)"
   ]
  },
  {
   "cell_type": "code",
   "execution_count": 9,
   "metadata": {
    "collapsed": false
   },
   "outputs": [],
   "source": [
    "x = sm.add_constant(F)\n",
    "\n",
    "for i in assets:\n",
    "    y = R.loc[:,i]\n",
    "    y_inlier = y[np.abs(y - y.mean())<=(3*y.std())]\n",
    "    x_inlier = x[np.abs(y - y.mean())<=(3*y.std())]\n",
    "    result = regression.linear_model.OLS(y_inlier, x_inlier).fit() \n",
    "\n",
    "    epsilon.loc[:,i] = result.resid\n",
    "    B.loc[i,\"MKT_beta\"] = result.params[1]\n",
    "    B.loc[i,\"SMB_beta\"] = result.params[2]\n",
    "    B.loc[i,\"HML_beta\"] = result.params[3]  \n",
    " "
   ]
  },
  {
   "cell_type": "markdown",
   "metadata": {},
   "source": [
    "The factor exposures are shown as follows. "
   ]
  },
  {
   "cell_type": "code",
   "execution_count": 10,
   "metadata": {
    "collapsed": false
   },
   "outputs": [
    {
     "data": {
      "image/png": "[encoded data removed]",
      "text/plain": [
       "<matplotlib.figure.Figure at 0x7f0dd67a3450>"
      ]
     },
     "metadata": {},
     "output_type": "display_data"
    }
   ],
   "source": [
    "fig,axes = plt.subplots(1,3)\n",
    "ax1,ax2,ax3 =axes\n",
    "\n",
    "B.iloc[0:10,0].plot.barh(ax=ax1, figsize=[29,5], title=B.columns[0])\n",
    "B.iloc[0:10,1].plot.barh(ax=ax2, figsize=[29,5], title=B.columns[1])\n",
    "B.iloc[0:10,2].plot.barh(ax=ax3, figsize=[29,5], title=B.columns[2])\n",
    "\n",
    "ax1.set(xlabel='beta')\n",
    "ax2.set(xlabel='beta')\n",
    "ax3.set(xlabel='beta')\n",
    "plt.show()"
   ]
  },
  {
   "cell_type": "code",
   "execution_count": 11,
   "metadata": {
    "collapsed": false
   },
   "outputs": [
    {
     "data": {
      "text/plain": [
       "MKT_beta    1.046191\n",
       "SMB_beta   -0.116198\n",
       "HML_beta   -0.086110\n",
       "Name: Equity(24 [AAPL]), dtype: float64"
      ]
     },
     "execution_count": 11,
     "metadata": {},
     "output_type": "execute_result"
    }
   ],
   "source": [
    "B.loc[symbols('AAPL'),:]"
   ]
  },
  {
   "cell_type": "markdown",
   "metadata": {},
   "source": [
    "#### Summary of the Setup:\n",
    "1. returns of assets in universe: `R`\n",
    "2. fundamental factors: `F`\n",
    "3. Exposures of these fundamental factors: `B`\n",
    "4. "
   ]
  },
  {
   "cell_type": "code",
   "execution_count": 12,
   "metadata": {
    "collapsed": false
   },
   "outputs": [
    {
     "data": {
      "text/html": [
       "<div>\n",
       "<table border=\"1\" class=\"dataframe\">\n",
       "  <thead>\n",
       "    <tr style=\"text-align: right;\">\n",
       "      <th></th>\n",
       "      <th>MKT</th>\n",
       "      <th>SMB</th>\n",
       "      <th>HML</th>\n",
       "    </tr>\n",
       "  </thead>\n",
       "  <tbody>\n",
       "    <tr>\n",
       "      <th>2016-01-05 00:00:00+00:00</th>\n",
       "      <td>0.002090</td>\n",
       "      <td>-0.002069</td>\n",
       "      <td>-0.002346</td>\n",
       "    </tr>\n",
       "    <tr>\n",
       "      <th>2016-01-06 00:00:00+00:00</th>\n",
       "      <td>-0.013010</td>\n",
       "      <td>0.005314</td>\n",
       "      <td>-0.000184</td>\n",
       "    </tr>\n",
       "    <tr>\n",
       "      <th>2016-01-07 00:00:00+00:00</th>\n",
       "      <td>-0.023941</td>\n",
       "      <td>-0.004065</td>\n",
       "      <td>-0.000666</td>\n",
       "    </tr>\n",
       "  </tbody>\n",
       "</table>\n",
       "</div>"
      ],
      "text/plain": [
       "                                MKT       SMB       HML\n",
       "2016-01-05 00:00:00+00:00  0.002090 -0.002069 -0.002346\n",
       "2016-01-06 00:00:00+00:00 -0.013010  0.005314 -0.000184\n",
       "2016-01-07 00:00:00+00:00 -0.023941 -0.004065 -0.000666"
      ]
     },
     "execution_count": 12,
     "metadata": {},
     "output_type": "execute_result"
    }
   ],
   "source": [
    "F.head(3)"
   ]
  },
  {
   "cell_type": "code",
   "execution_count": 13,
   "metadata": {
    "collapsed": false
   },
   "outputs": [
    {
     "data": {
      "text/html": [
       "<div>\n",
       "<table border=\"1\" class=\"dataframe\">\n",
       "  <thead>\n",
       "    <tr style=\"text-align: right;\">\n",
       "      <th></th>\n",
       "      <th>MKT_beta</th>\n",
       "      <th>SMB_beta</th>\n",
       "      <th>HML_beta</th>\n",
       "    </tr>\n",
       "  </thead>\n",
       "  <tbody>\n",
       "    <tr>\n",
       "      <th>Equity(2 [ARNC])</th>\n",
       "      <td>1.387909</td>\n",
       "      <td>-0.106336</td>\n",
       "      <td>1.569786</td>\n",
       "    </tr>\n",
       "    <tr>\n",
       "      <th>Equity(24 [AAPL])</th>\n",
       "      <td>1.046191</td>\n",
       "      <td>-0.116198</td>\n",
       "      <td>-0.086110</td>\n",
       "    </tr>\n",
       "    <tr>\n",
       "      <th>Equity(62 [ABT])</th>\n",
       "      <td>1.045583</td>\n",
       "      <td>0.098370</td>\n",
       "      <td>-0.200113</td>\n",
       "    </tr>\n",
       "  </tbody>\n",
       "</table>\n",
       "</div>"
      ],
      "text/plain": [
       "                   MKT_beta  SMB_beta  HML_beta\n",
       "Equity(2 [ARNC])   1.387909 -0.106336  1.569786\n",
       "Equity(24 [AAPL])  1.046191 -0.116198 -0.086110\n",
       "Equity(62 [ABT])   1.045583  0.098370 -0.200113"
      ]
     },
     "execution_count": 13,
     "metadata": {},
     "output_type": "execute_result"
    }
   ],
   "source": [
    "B.head(3)"
   ]
  },
  {
   "cell_type": "markdown",
   "metadata": {},
   "source": [
    "### 1. What proportion of the variance of my portfolio comes from common risk factors?"
   ]
  },
  {
   "cell_type": "markdown",
   "metadata": {},
   "source": [
    "The portfolio variance can be computed by \n",
    "  \n",
    "  $$\\sigma^2 = \\text{common factor variance} + \\text{specific variance}$$\n",
    "\n",
    "where:\n",
    "\n",
    "\n",
    "- common factor variance $=$  $hBVB^{\\top}h^{\\top}$\n",
    "\n",
    "\n",
    "- specific variance $=$ $hDh^{\\top}$\n",
    "\n",
    "\n",
    "- $B$ is the matrix of factor exposures of $n$ assets to the factors, \n",
    "\n",
    "\n",
    "- $V$ is the covariance matrix of factors\n",
    "\n",
    "\n",
    "- $D$ is specific variance\n",
    "\n",
    "\n",
    "- $h$ is the vector of portfolio weights for $n$ assets,\n",
    "\n"
   ]
  },
  {
   "cell_type": "markdown",
   "metadata": {},
   "source": [
    "#### Compute common factor variance:\n"
   ]
  },
  {
   "cell_type": "code",
   "execution_count": 14,
   "metadata": {
    "collapsed": false
   },
   "outputs": [],
   "source": [
    "# suppose the portfolio is an equally weighted portfolio\n",
    "h = np.ones([1,R.shape[1]])/R.shape[1]"
   ]
  },
  {
   "cell_type": "code",
   "execution_count": 15,
   "metadata": {
    "collapsed": false
   },
   "outputs": [
    {
     "data": {
      "text/plain": [
       "array([[ 0.00011182]])"
      ]
     },
     "execution_count": 15,
     "metadata": {},
     "output_type": "execute_result"
    }
   ],
   "source": [
    "def compute_common_factor_variance(factors, factor_exposures, h):   \n",
    "    B = np.asarray(factor_exposures)\n",
    "    F = np.asarray(factors)\n",
    "    V = np.asarray(factors.cov())\n",
    "    \n",
    "    return h.dot(B.dot(V).dot(B.T)).dot(h.T)\n",
    "\n",
    "common_factor_variance = compute_common_factor_variance(F, B, h)\n",
    "common_factor_variance"
   ]
  },
  {
   "cell_type": "code",
   "execution_count": 16,
   "metadata": {
    "collapsed": false
   },
   "outputs": [
    {
     "data": {
      "text/plain": [
       "array([[  5.21258877e-07]])"
      ]
     },
     "execution_count": 16,
     "metadata": {},
     "output_type": "execute_result"
    }
   ],
   "source": [
    "def compute_specific_variance(epsilon, h):       \n",
    "    \n",
    "    D = np.diag(np.asarray(epsilon.var())) * epsilon.shape[0] / (epsilon.shape[0]-1)\n",
    "\n",
    "    return h.dot(D).dot(h.T)\n",
    "\n",
    "specific_variance = compute_specific_variance(epsilon, h)\n",
    "specific_variance"
   ]
  },
  {
   "cell_type": "markdown",
   "metadata": {},
   "source": [
    "####  The proportion of the variance of my portfolio comes from common risk factors is \n",
    "\n",
    "\n",
    "$$\\frac{\\text{common factor variance}}{\\text{common factor variance + specific variance}}$$."
   ]
  },
  {
   "cell_type": "code",
   "execution_count": 17,
   "metadata": {
    "collapsed": false
   },
   "outputs": [
    {
     "data": {
      "text/plain": [
       "array([[ 0.99536025]])"
      ]
     },
     "execution_count": 17,
     "metadata": {},
     "output_type": "execute_result"
    }
   ],
   "source": [
    "common_factor_variance/(common_factor_variance + specific_variance)"
   ]
  },
  {
   "cell_type": "markdown",
   "metadata": {},
   "source": [
    "### 2. How to limit the risk?"
   ]
  },
  {
   "cell_type": "markdown",
   "metadata": {},
   "source": [
    "Use optimization to adjust the allocations of the portfolio!"
   ]
  },
  {
   "cell_type": "markdown",
   "metadata": {},
   "source": [
    "The optimization problem can be constructed as:\n",
    "\n",
    "\\begin{array}{ll} \\mbox{$\\text{minimize/maximum}$}_{w} & \\text{objective function}\\\\\n",
    "\\mbox{subject to} & {\\bf 1}^T w = 1, \\quad f=B^Tw\\\\\n",
    "& w \\in {\\cal W}, \\quad f \\in {\\cal F},\n",
    "\\end{array}\n",
    "where the variable $w$ is the vector of allocations, the variable $f$ is weighed factor exposures, and  the variable ${\\cal F}$ gives $f$ constraints.\n",
    "\n",
    "\n",
    "\n"
   ]
  },
  {
   "cell_type": "markdown",
   "metadata": {},
   "source": [
    "The objective function is the result of an attempt to express a business goal in mathematical terms. For example, it can be sharpe ratio or volatility. "
   ]
  },
  {
   "cell_type": "markdown",
   "metadata": {},
   "source": [
    "The varible we would like to solve in this optimization is $w$. To "
   ]
  },
  {
   "cell_type": "markdown",
   "metadata": {},
   "source": []
  },
  {
   "cell_type": "code",
   "execution_count": 18,
   "metadata": {
    "collapsed": false
   },
   "outputs": [],
   "source": [
    "w_0 = np.random.rand(R.shape[1])\n",
    "w_0 = w_0/np.sum(w_0)"
   ]
  },
  {
   "cell_type": "markdown",
   "metadata": {},
   "source": [
    "The variable $f$ is weighed factor exposures of the porfolio, and its size equals to the size of factors.  Applying different allocation $w$ to portfolio, the $f$ changes."
   ]
  },
  {
   "cell_type": "code",
   "execution_count": 19,
   "metadata": {
    "collapsed": false
   },
   "outputs": [
    {
     "data": {
      "text/plain": [
       "MKT_beta    1.080142\n",
       "SMB_beta    0.070365\n",
       "HML_beta    0.164351\n",
       "dtype: float64"
      ]
     },
     "execution_count": 19,
     "metadata": {},
     "output_type": "execute_result"
    }
   ],
   "source": [
    "f = B.T.dot(w_0)\n",
    "f"
   ]
  },
  {
   "cell_type": "markdown",
   "metadata": {},
   "source": [
    "The variable ${\\cal F}$ can be set as a vector to bound the weighed factor exposures of the porfolio $f$. For example, $\\cal F$ can be set as $[1,1,1]$. It means the maximum factor exposures of the porfolio $f$ cannot be greater than 1, and the objective function will search its best solution $w$ under this condition."
   ]
  },
  {
   "cell_type": "markdown",
   "metadata": {},
   "source": [
    "A concrete example can be found in [cvx course: portfolio optimization](http://nbviewer.jupyter.org/github/cvxgrp/cvx_short_course/blob/master/applications/portfolio_optimization.ipynb)."
   ]
  },
  {
   "cell_type": "markdown",
   "metadata": {},
   "source": [
    "### 3. Performance attribution: where does the return/PNL come from?"
   ]
  },
  {
   "cell_type": "markdown",
   "metadata": {},
   "source": [
    "Let us use a sample algo in quantopian community as an example to show how to analyze return/pnl using the outputs of factor model."
   ]
  },
  {
   "cell_type": "code",
   "execution_count": 20,
   "metadata": {
    "collapsed": false
   },
   "outputs": [
    {
     "name": "stdout",
     "output_type": "stream",
     "text": [
      "100% Time: 0:00:01|###########################################################|\n"
     ]
    }
   ],
   "source": [
    "bt_wsj = get_backtest('5991432853a96650f7624b77')"
   ]
  },
  {
   "cell_type": "code",
   "execution_count": 21,
   "metadata": {
    "collapsed": false
   },
   "outputs": [],
   "source": [
    "algo = bt_wsj.pyfolio_positions\n",
    "algo.index.name = None\n",
    "holdings = algo.drop(labels='cash', axis=1)\n",
    "holdings = holdings.fillna(0)\n",
    "for i,idx in enumerate(holdings.columns):\n",
    "    holdings = holdings.rename(index=None, columns=({holdings.columns[i]\n",
    "                                                    :holdings.columns[i].split('-', 1)[1]}))\n",
    "holdings.columns = symbols(holdings.columns.astype('int'))"
   ]
  },
  {
   "cell_type": "markdown",
   "metadata": {},
   "source": [
    "We could analyze this algo's performance attribution on any day."
   ]
  },
  {
   "cell_type": "code",
   "execution_count": 22,
   "metadata": {
    "collapsed": true
   },
   "outputs": [],
   "source": [
    "example_date = '2016-01-06'"
   ]
  },
  {
   "cell_type": "code",
   "execution_count": 23,
   "metadata": {
    "collapsed": false
   },
   "outputs": [
    {
     "name": "stdout",
     "output_type": "stream",
     "text": [
      "total long position at 2016-01-06 is: $476474.764\n",
      "total short position at 2016-01-06 is: $-489388.502\n",
      "holdings at at 2016-01-06 is: \n"
     ]
    },
    {
     "data": {
      "text/html": [
       "<div>\n",
       "<table border=\"1\" class=\"dataframe\">\n",
       "  <thead>\n",
       "    <tr style=\"text-align: right;\">\n",
       "      <th></th>\n",
       "      <th>2016-01-06 00:00:00+00:00</th>\n",
       "    </tr>\n",
       "  </thead>\n",
       "  <tbody>\n",
       "    <tr>\n",
       "      <th>Equity(2 [ARNC])</th>\n",
       "      <td>-2992.80</td>\n",
       "    </tr>\n",
       "    <tr>\n",
       "      <th>Equity(270 [AKRX])</th>\n",
       "      <td>-3465.90</td>\n",
       "    </tr>\n",
       "    <tr>\n",
       "      <th>Equity(301 [ALKS])</th>\n",
       "      <td>-3302.20</td>\n",
       "    </tr>\n",
       "    <tr>\n",
       "      <th>Equity(337 [AMAT])</th>\n",
       "      <td>-3226.86</td>\n",
       "    </tr>\n",
       "    <tr>\n",
       "      <th>Equity(351 [AMD])</th>\n",
       "      <td>-3015.00</td>\n",
       "    </tr>\n",
       "  </tbody>\n",
       "</table>\n",
       "</div>"
      ],
      "text/plain": [
       "                    2016-01-06 00:00:00+00:00\n",
       "Equity(2 [ARNC])                     -2992.80\n",
       "Equity(270 [AKRX])                   -3465.90\n",
       "Equity(301 [ALKS])                   -3302.20\n",
       "Equity(337 [AMAT])                   -3226.86\n",
       "Equity(351 [AMD])                    -3015.00"
      ]
     },
     "execution_count": 23,
     "metadata": {},
     "output_type": "execute_result"
    }
   ],
   "source": [
    "def stocks_hold(P, date):\n",
    "    PP = P.loc[date,:]\n",
    "    return pd.DataFrame(PP[PP !=0])\n",
    "\n",
    "stock_holdings = stocks_hold(holdings, example_date)\n",
    "\n",
    "total_long_position = stock_holdings[stock_holdings>0].dropna().sum()\n",
    "print \"total long position at {} is: ${}\".format(example_date, total_long_position.iloc[0])\n",
    "\n",
    "total_short_position = stock_holdings[stock_holdings<0].dropna().sum()\n",
    "print \"total short position at {} is: ${}\".format(example_date, total_short_position.iloc[0])\n",
    "\n",
    "\n",
    "print \"holdings at at {} is: \".format(example_date)\n",
    "df_1 = stock_holdings.copy()\n",
    "df_1.head()"
   ]
  },
  {
   "cell_type": "code",
   "execution_count": 24,
   "metadata": {
    "collapsed": false
   },
   "outputs": [],
   "source": [
    "def fundamental_factor_returns(universe_returns, factors, exposures, date):\n",
    "    \n",
    "    performance_attribution = pd.DataFrame(index = universe_returns.columns)\n",
    "\n",
    "    performance_attribution.loc[:,'PnL'] = universe_returns.loc[date,:]\n",
    "\n",
    "    performance_attribution.loc[:,\"MKT explained\"] = factors.loc[date,\"MKT\"] * exposures.loc[:,\"MKT_beta\"]\n",
    "    performance_attribution.loc[:,\"SMB explained\"] = factors.loc[date,\"SMB\"] * exposures.loc[:,\"SMB_beta\"]\n",
    "    performance_attribution.loc[:,\"HML explained\"] = factors.loc[date,\"HML\"] * exposures.loc[:,\"HML_beta\"]\n",
    "        \n",
    "    return performance_attribution\n",
    "\n",
    "performance_attribution = fundamental_factor_returns(R, F, B, example_date)"
   ]
  },
  {
   "cell_type": "code",
   "execution_count": 25,
   "metadata": {
    "collapsed": true
   },
   "outputs": [],
   "source": [
    "def factor_returns_algorithm(date, universe_returns, factors, exposures, holdings):\n",
    "    \n",
    "    analysis_ff = fundamental_factor_returns(universe_returns, factors, exposures, date)\n",
    "    \n",
    "    stocks_holdings = stocks_hold(holdings, date)\n",
    "    \n",
    "    L = list(stocks_hold(holdings,date).index)\n",
    "    \n",
    "    ph_factor_return= analysis_ff.loc[symbols(L),:]\n",
    "    \n",
    "    ph_factor_return_dollar = ph_factor_return.mul(np.asarray(stocks_holdings.iloc[:,0]),axis = 0)\n",
    "      \n",
    "    return (ph_factor_return,ph_factor_return_dollar)"
   ]
  },
  {
   "cell_type": "code",
   "execution_count": 26,
   "metadata": {
    "collapsed": false
   },
   "outputs": [
    {
     "name": "stdout",
     "output_type": "stream",
     "text": [
      "Total factor returns of the portfolio in dollar on 2016-01-06 are: \n"
     ]
    },
    {
     "data": {
      "text/html": [
       "<div>\n",
       "<table border=\"1\" class=\"dataframe\">\n",
       "  <thead>\n",
       "    <tr style=\"text-align: right;\">\n",
       "      <th></th>\n",
       "      <th>2016-01-06</th>\n",
       "    </tr>\n",
       "  </thead>\n",
       "  <tbody>\n",
       "    <tr>\n",
       "      <th>PnL</th>\n",
       "      <td>-5783.512962</td>\n",
       "    </tr>\n",
       "    <tr>\n",
       "      <th>MKT explained</th>\n",
       "      <td>-1375.121211</td>\n",
       "    </tr>\n",
       "    <tr>\n",
       "      <th>SMB explained</th>\n",
       "      <td>-67.995615</td>\n",
       "    </tr>\n",
       "    <tr>\n",
       "      <th>HML explained</th>\n",
       "      <td>-28.549844</td>\n",
       "    </tr>\n",
       "  </tbody>\n",
       "</table>\n",
       "</div>"
      ],
      "text/plain": [
       "                2016-01-06\n",
       "PnL           -5783.512962\n",
       "MKT explained -1375.121211\n",
       "SMB explained   -67.995615\n",
       "HML explained   -28.549844"
      ]
     },
     "execution_count": 26,
     "metadata": {},
     "output_type": "execute_result"
    }
   ],
   "source": [
    "(ph_factor_return,ph_factor_return_dollar) = factor_returns_algorithm(example_date, R, \n",
    "                                                                      F, B,\n",
    "                                                                      holdings)\n",
    "print \"Total factor returns of the portfolio in dollar on {} are: \".format(example_date)\n",
    "pd.DataFrame(ph_factor_return_dollar.sum(), columns=[example_date])"
   ]
  },
  {
   "cell_type": "code",
   "execution_count": null,
   "metadata": {
    "collapsed": true
   },
   "outputs": [],
   "source": []
  }
 ],
 "metadata": {
  "kernelspec": {
   "display_name": "Python 2",
   "language": "python",
   "name": "python2"
  }
 },
 "nbformat": 4,
 "nbformat_minor": 2
}
{
 "cells": [
  {
   "cell_type": "markdown",
   "metadata": {},
   "source": [
    "# Alphalens Quickstart Template"
   ]
  },
  {
   "cell_type": "code",
   "execution_count": null,
   "metadata": {},
   "outputs": [],
   "source": [
    "from quantopian.pipeline import Pipeline\n",
    "from quantopian.research import run_pipeline\n",
    "from quantopian.pipeline.data import factset, USEquityPricing\n",
    "from quantopian.pipeline.factors import SimpleMovingAverage, AverageDollarVolume\n",
    "\n",
    "from alphalens.performance import mean_information_coefficient\n",
    "from alphalens.utils import get_clean_factor_and_forward_returns\n",
    "from alphalens.tears import create_information_tear_sheet, create_returns_tear_sheet"
   ]
  },
  {
   "cell_type": "markdown",
   "metadata": {},
   "source": [
    "## Define Your Alpha Factor Here\n",
    "\n",
    "Spend your time in this cell, creating good factors. Then simply run the rest of the notebook to analyze `factor_to_analyze`!"
   ]
  },
  {
   "cell_type": "code",
   "execution_count": null,
   "metadata": {},
   "outputs": [],
   "source": [
    "def make_pipeline():\n",
    "    # Filter out equities with low market capitalization\n",
    "    market_cap_filter = factset.Fundamentals.mkt_val.latest > 500000000\n",
    "\n",
    "    # Filter out equities with low volume\n",
    "    volume_filter = AverageDollarVolume(window_length=200) > 2500000\n",
    "\n",
    "    # Filter out equities with a close price below $5\n",
    "    price_filter = USEquityPricing.close.latest > 5\n",
    "\n",
    "    # Our final base universe\n",
    "    base_universe = market_cap_filter & volume_filter & price_filter\n",
    "    \n",
    "    assets_moving_average = SimpleMovingAverage(inputs=[factset.Fundamentals.assets], window_length=252)\n",
    "    current_assets = factset.Fundamentals.assets.latest\n",
    "    \n",
    "    # This is the factor that the rest of the notebook will analyze\n",
    "    factor_to_analyze = (current_assets - assets_moving_average)\n",
    "    \n",
    "    # The following columns will help us group assets by market cap. This will allow us to analyze\n",
    "    # whether our alpha factor's predictiveness varies among assets with different market caps.\n",
    "    market_cap = factset.Fundamentals.mkt_val.latest\n",
    "    is_small_cap = market_cap.percentile_between(0, 100)\n",
    "    is_mid_cap = market_cap.percentile_between(50, 100)\n",
    "    is_large_cap = market_cap.percentile_between(90, 100)\n",
    "\n",
    "    return Pipeline(\n",
    "        columns = {\n",
    "          'factor_to_analyze': factor_to_analyze, \n",
    "          'small_cap_filter': is_small_cap,\n",
    "          'mid_cap_filter': is_mid_cap,\n",
    "          'large_cap_filter': is_large_cap,\n",
    "        },\n",
    "        screen = (\n",
    "            base_universe\n",
    "            & factor_to_analyze.notnull()\n",
    "            & market_cap.notnull()\n",
    "        )\n",
    "    )\n",
    "\n",
    "# To group by market cap, we will follow the following steps.\n",
    "\n",
    "# Convert the \"True\" values to ones, so they can be added together\n",
    "pipeline_output[['small_cap_filter', 'mid_cap_filter', 'large_cap_filter']] *= 1\n",
    "\n",
    "# If a stock passed the large_cap filter, it also passed the mid_cap and small_cap filters.\n",
    "# This means we can add the three columns, and stocks that are large_cap will get a value of 3,\n",
    "# stocks that are mid cap will get a value of 2, and stocks that are small cap will get 1.\n",
    "pipeline_output['cap_type'] = (\n",
    "  pipeline_output['small_cap_filter'] + pipeline_output['mid_cap_filter'] + pipeline_output['large_cap_filter']\n",
    ")\n",
    "\n",
    "# drop the old columns, we don't need them anymore\n",
    "pipeline_output.drop(['small_cap_filter', 'mid_cap_filter', 'large_cap_filter'], axis=1, inplace=True)\n",
    "\n",
    "# rename the 1's, 2's and 3's for clarity\n",
    "pipeline_output['cap_type'].replace([1, 2, 3], ['small_cap', 'mid_cap', 'large_cap'], inplace=True)\n",
    "\n",
    "# the final product\n",
    "pipeline_output.head(5)"
   ]
  },
  {
   "cell_type": "markdown",
   "metadata": {},
   "source": [
    "## Create Group Neutral Tear Sheets"
   ]
  },
  {
   "cell_type": "code",
   "execution_count": null,
   "metadata": {},
   "outputs": [],
   "source": [
    "factor_data = get_clean_factor_and_forward_returns(\n",
    "    factor = pipeline_output['factor_to_analyze'],\n",
    "    prices = pricing_data,\n",
    "    groupby = pipeline_output['cap_type'],\n",
    "    binning_by_group = True,\n",
    "    periods = (1,5,10)\n",
    ")\n",
    "\n",
    "create_information_tear_sheet(factor_data, by_group=True, group_neutral=True)\n",
    "create_returns_tear_sheet(factor_data, by_group=True, group_neutral=True)"
   ]
  },
  {
   "cell_type": "markdown",
   "metadata": {},
   "source": [
    "## Determine The Decay Rate Of Your Alpha Factor."
   ]
  },
  {
   "cell_type": "code",
   "execution_count": null,
   "metadata": {},
   "outputs": [],
   "source": [
    "longest_look_forward_period = 63 # week = 5, month = 21, quarter = 63, year = 252\n",
    "range_step = 5\n",
    "\n",
    "factor_data = get_clean_factor_and_forward_returns(\n",
    "    factor = pipeline_output['factor_to_analyze'],\n",
    "    prices = pricing_data,\n",
    "    periods = range(1, longest_look_forward_period, range_step)\n",
    ")\n",
    "\n",
    "mean_information_coefficient(factor_data).plot(title=\"IC Decay\")"
   ]
  },
  {
   "cell_type": "code",
   "execution_count": null,
   "metadata": {},
   "outputs": [],
   "source": []
  }
 ],
 "metadata": {
  "kernelspec": {
   "display_name": "Python 3",
   "language": "python",
   "name": "python3"
  },
  "language_info": {
   "codemirror_mode": {
    "name": "ipython",
    "version": 3
   },
   "file_extension": ".py",
   "mimetype": "text/x-python",
   "name": "python",
   "nbconvert_exporter": "python",
   "pygments_lexer": "ipython3",
   "version": "3.7.0"
  }
 },
 "nbformat": 4,
 "nbformat_minor": 2
}
